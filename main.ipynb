{
 "cells": [
  {
   "cell_type": "code",
   "execution_count": 26,
   "metadata": {},
   "outputs": [],
   "source": [
    "import pandas as pd\n",
    "from difflib import SequenceMatcher"
   ]
  },
  {
   "cell_type": "code",
   "execution_count": 27,
   "metadata": {},
   "outputs": [],
   "source": [
    "metadata = pd.read_csv('Metadata.csv')\n",
    "orginfests = pd.read_csv('Organisers_In_Fests.csv')\n",
    "partinfests = pd.read_csv('Participants_In_Fests.csv')\n",
    "clubs = pd.read_csv('Clubs_data.csv')"
   ]
  },
  {
   "cell_type": "code",
   "execution_count": 28,
   "metadata": {},
   "outputs": [
    {
     "data": {
      "text/plain": [
       "<bound method NDFrame.head of      Fest_Name             Name            Event\n",
       "0       fest_1       JenapRowli   fest_1_event_9\n",
       "1       fest_1    Credyj Duenas   fest_1_event_4\n",
       "2       fest_2   Jequqlin Duran   fest_2_event_1\n",
       "3       fest_1   Keiyah widalgo   fest_1_event_4\n",
       "4       fest_2    Elaine John S  fest_2_event_15\n",
       "...        ...              ...              ...\n",
       "4764    fest_2   Candace John B   fest_2_event_7\n",
       "4765    fest_2  debra clevenger  fest_2_event_11\n",
       "4766    fest_1    Tharn Strogud   fest_1_event_6\n",
       "4767    fest_1               HS   fest_1_event_3\n",
       "4768    fest_2    jadon vandyke   fest_2_event_2\n",
       "\n",
       "[4769 rows x 3 columns]>"
      ]
     },
     "execution_count": 28,
     "metadata": {},
     "output_type": "execute_result"
    }
   ],
   "source": [
    "partinfests.head"
   ]
  },
  {
   "cell_type": "code",
   "execution_count": 29,
   "metadata": {},
   "outputs": [],
   "source": [
    "partinfests = partinfests.drop(['Fest_Name'], axis=1)"
   ]
  },
  {
   "cell_type": "code",
   "execution_count": 39,
   "metadata": {},
   "outputs": [],
   "source": [
    "partinfests[\"fests\"] = partinfests.apply(lambda x: [], axis = 1)"
   ]
  },
  {
   "cell_type": "code",
   "execution_count": 40,
   "metadata": {},
   "outputs": [],
   "source": [
    "for i in range(len(partinfests[\"Name\"])):\n",
    "    partinfests[\"fests\"][i].append(partinfests[\"Event\"][i])"
   ]
  },
  {
   "cell_type": "code",
   "execution_count": 41,
   "metadata": {},
   "outputs": [
    {
     "data": {
      "text/html": [
       "<div>\n",
       "<style scoped>\n",
       "    .dataframe tbody tr th:only-of-type {\n",
       "        vertical-align: middle;\n",
       "    }\n",
       "\n",
       "    .dataframe tbody tr th {\n",
       "        vertical-align: top;\n",
       "    }\n",
       "\n",
       "    .dataframe thead th {\n",
       "        text-align: right;\n",
       "    }\n",
       "</style>\n",
       "<table border=\"1\" class=\"dataframe\">\n",
       "  <thead>\n",
       "    <tr style=\"text-align: right;\">\n",
       "      <th></th>\n",
       "      <th>Name</th>\n",
       "      <th>Event</th>\n",
       "      <th>fests</th>\n",
       "    </tr>\n",
       "  </thead>\n",
       "  <tbody>\n",
       "    <tr>\n",
       "      <th>0</th>\n",
       "      <td>JenapRowli</td>\n",
       "      <td>fest_1_event_9</td>\n",
       "      <td>[fest_1_event_9]</td>\n",
       "    </tr>\n",
       "    <tr>\n",
       "      <th>1</th>\n",
       "      <td>Credyj Duenas</td>\n",
       "      <td>fest_1_event_4</td>\n",
       "      <td>[fest_1_event_4]</td>\n",
       "    </tr>\n",
       "    <tr>\n",
       "      <th>2</th>\n",
       "      <td>Jequqlin Duran</td>\n",
       "      <td>fest_2_event_1</td>\n",
       "      <td>[fest_2_event_1]</td>\n",
       "    </tr>\n",
       "    <tr>\n",
       "      <th>3</th>\n",
       "      <td>Keiyah widalgo</td>\n",
       "      <td>fest_1_event_4</td>\n",
       "      <td>[fest_1_event_4]</td>\n",
       "    </tr>\n",
       "    <tr>\n",
       "      <th>4</th>\n",
       "      <td>Elaine John S</td>\n",
       "      <td>fest_2_event_15</td>\n",
       "      <td>[fest_2_event_15]</td>\n",
       "    </tr>\n",
       "  </tbody>\n",
       "</table>\n",
       "</div>"
      ],
      "text/plain": [
       "             Name            Event              fests\n",
       "0      JenapRowli   fest_1_event_9   [fest_1_event_9]\n",
       "1   Credyj Duenas   fest_1_event_4   [fest_1_event_4]\n",
       "2  Jequqlin Duran   fest_2_event_1   [fest_2_event_1]\n",
       "3  Keiyah widalgo   fest_1_event_4   [fest_1_event_4]\n",
       "4   Elaine John S  fest_2_event_15  [fest_2_event_15]"
      ]
     },
     "execution_count": 41,
     "metadata": {},
     "output_type": "execute_result"
    }
   ],
   "source": [
    "partinfests.head()"
   ]
  },
  {
   "cell_type": "code",
   "execution_count": 44,
   "metadata": {},
   "outputs": [
    {
     "name": "stdout",
     "output_type": "stream",
     "text": [
      "0\n",
      "1\n",
      "2\n",
      "3\n",
      "4\n",
      "5\n",
      "6\n",
      "7\n",
      "8\n",
      "9\n",
      "10\n",
      "11\n",
      "12\n",
      "13\n",
      "14\n",
      "15\n",
      "16\n",
      "17\n",
      "18\n",
      "19\n",
      "20\n",
      "21\n",
      "22\n",
      "23\n",
      "24\n",
      "25\n",
      "26\n",
      "27\n",
      "28\n",
      "29\n",
      "30\n",
      "31\n",
      "32\n",
      "33\n",
      "34\n",
      "35\n",
      "36\n",
      "37\n",
      "38\n",
      "39\n",
      "40\n",
      "41\n",
      "42\n",
      "43\n",
      "44\n",
      "45\n",
      "46\n",
      "47\n",
      "48\n",
      "49\n",
      "50\n",
      "51\n",
      "52\n",
      "53\n"
     ]
    },
    {
     "ename": "KeyboardInterrupt",
     "evalue": "",
     "output_type": "error",
     "traceback": [
      "\u001b[0;31m---------------------------------------------------------------------------\u001b[0m",
      "\u001b[0;31mKeyboardInterrupt\u001b[0m                         Traceback (most recent call last)",
      "Cell \u001b[0;32mIn [44], line 7\u001b[0m\n\u001b[1;32m      5\u001b[0m     ratio \u001b[39m=\u001b[39m SequenceMatcher(\u001b[39mNone\u001b[39;00m, a, b)\u001b[39m.\u001b[39mratio()\n\u001b[1;32m      6\u001b[0m     \u001b[39mif\u001b[39;00m ratio \u001b[39m>\u001b[39m \u001b[39m0.7\u001b[39m:\n\u001b[0;32m----> 7\u001b[0m         partinfests[\u001b[39m\"\u001b[39;49m\u001b[39mfests\u001b[39;49m\u001b[39m\"\u001b[39;49m][i] \u001b[39m=\u001b[39m partinfests[\u001b[39m\"\u001b[39m\u001b[39mfests\u001b[39m\u001b[39m\"\u001b[39m][i] \u001b[39m+\u001b[39m partinfests[\u001b[39m\"\u001b[39m\u001b[39mfests\u001b[39m\u001b[39m\"\u001b[39m][j]\n\u001b[1;32m      8\u001b[0m         partinfests\u001b[39m.\u001b[39mdrop(labels\u001b[39m=\u001b[39m[j],axis\u001b[39m=\u001b[39m\u001b[39m0\u001b[39m)\n\u001b[1;32m      9\u001b[0m \u001b[39mprint\u001b[39m(i)\n",
      "File \u001b[0;32m~/workspace/MU-Hiring-2022/.env/lib/python3.10/site-packages/pandas/core/series.py:1105\u001b[0m, in \u001b[0;36mSeries.__setitem__\u001b[0;34m(self, key, value)\u001b[0m\n\u001b[1;32m   1102\u001b[0m     \u001b[39mreturn\u001b[39;00m \u001b[39mself\u001b[39m\u001b[39m.\u001b[39m_set_values(indexer, value)\n\u001b[1;32m   1104\u001b[0m \u001b[39mtry\u001b[39;00m:\n\u001b[0;32m-> 1105\u001b[0m     \u001b[39mself\u001b[39;49m\u001b[39m.\u001b[39;49m_set_with_engine(key, value)\n\u001b[1;32m   1106\u001b[0m \u001b[39mexcept\u001b[39;00m \u001b[39mKeyError\u001b[39;00m:\n\u001b[1;32m   1107\u001b[0m     \u001b[39m# We have a scalar (or for MultiIndex or object-dtype, scalar-like)\u001b[39;00m\n\u001b[1;32m   1108\u001b[0m     \u001b[39m#  key that is not present in self.index.\u001b[39;00m\n\u001b[1;32m   1109\u001b[0m     \u001b[39mif\u001b[39;00m is_integer(key) \u001b[39mand\u001b[39;00m \u001b[39mself\u001b[39m\u001b[39m.\u001b[39mindex\u001b[39m.\u001b[39minferred_type \u001b[39m!=\u001b[39m \u001b[39m\"\u001b[39m\u001b[39minteger\u001b[39m\u001b[39m\"\u001b[39m:\n\u001b[1;32m   1110\u001b[0m         \u001b[39m# positional setter\u001b[39;00m\n",
      "File \u001b[0;32m~/workspace/MU-Hiring-2022/.env/lib/python3.10/site-packages/pandas/core/series.py:1178\u001b[0m, in \u001b[0;36mSeries._set_with_engine\u001b[0;34m(self, key, value)\u001b[0m\n\u001b[1;32m   1175\u001b[0m loc \u001b[39m=\u001b[39m \u001b[39mself\u001b[39m\u001b[39m.\u001b[39mindex\u001b[39m.\u001b[39mget_loc(key)\n\u001b[1;32m   1177\u001b[0m \u001b[39m# this is equivalent to self._values[key] = value\u001b[39;00m\n\u001b[0;32m-> 1178\u001b[0m \u001b[39mself\u001b[39;49m\u001b[39m.\u001b[39;49m_mgr\u001b[39m.\u001b[39;49msetitem_inplace(loc, value)\n",
      "File \u001b[0;32m~/workspace/MU-Hiring-2022/.env/lib/python3.10/site-packages/pandas/core/internals/managers.py:2069\u001b[0m, in \u001b[0;36mSingleBlockManager.setitem_inplace\u001b[0;34m(self, indexer, value)\u001b[0m\n\u001b[1;32m   2066\u001b[0m     \u001b[39mself\u001b[39m\u001b[39m.\u001b[39mrefs \u001b[39m=\u001b[39m \u001b[39mNone\u001b[39;00m\n\u001b[1;32m   2067\u001b[0m     \u001b[39mself\u001b[39m\u001b[39m.\u001b[39m_cache\u001b[39m.\u001b[39mclear()\n\u001b[0;32m-> 2069\u001b[0m \u001b[39msuper\u001b[39;49m()\u001b[39m.\u001b[39;49msetitem_inplace(indexer, value)\n",
      "File \u001b[0;32m~/workspace/MU-Hiring-2022/.env/lib/python3.10/site-packages/pandas/core/internals/base.py:172\u001b[0m, in \u001b[0;36mSingleDataManager.setitem_inplace\u001b[0;34m(self, indexer, value)\u001b[0m\n\u001b[1;32m    169\u001b[0m     \u001b[39m# error: \"SingleDataManager\" has no attribute \"arrays\"; maybe \"array\"\u001b[39;00m\n\u001b[1;32m    170\u001b[0m     \u001b[39mreturn\u001b[39;00m \u001b[39mself\u001b[39m\u001b[39m.\u001b[39marrays[\u001b[39m0\u001b[39m]  \u001b[39m# type: ignore[attr-defined]\u001b[39;00m\n\u001b[0;32m--> 172\u001b[0m \u001b[39mdef\u001b[39;00m \u001b[39msetitem_inplace\u001b[39m(\u001b[39mself\u001b[39m, indexer, value) \u001b[39m-\u001b[39m\u001b[39m>\u001b[39m \u001b[39mNone\u001b[39;00m:\n\u001b[1;32m    173\u001b[0m     \u001b[39m\"\"\"\u001b[39;00m\n\u001b[1;32m    174\u001b[0m \u001b[39m    Set values with indexer.\u001b[39;00m\n\u001b[1;32m    175\u001b[0m \n\u001b[0;32m   (...)\u001b[0m\n\u001b[1;32m    180\u001b[0m \u001b[39m    the dtype.\u001b[39;00m\n\u001b[1;32m    181\u001b[0m \u001b[39m    \"\"\"\u001b[39;00m\n\u001b[1;32m    182\u001b[0m     arr \u001b[39m=\u001b[39m \u001b[39mself\u001b[39m\u001b[39m.\u001b[39marray\n",
      "\u001b[0;31mKeyboardInterrupt\u001b[0m: "
     ]
    }
   ],
   "source": [
    "for i in range(len(partinfests[\"Name\"])):\n",
    "    for j in range(i+1,len(partinfests[\"Name\"])):\n",
    "        a = partinfests[\"Name\"][i]\n",
    "        b = partinfests[\"Name\"][j]\n",
    "        ratio = SequenceMatcher(None, a, b).ratio()\n",
    "        if ratio > 0.7:\n",
    "            partinfests[\"fests\"][i] = partinfests[\"fests\"][i] + partinfests[\"fests\"][j]\n",
    "            partinfests.drop(labels=[j],axis=0)\n",
    "    print(i)\n"
   ]
  },
  {
   "cell_type": "code",
   "execution_count": 43,
   "metadata": {},
   "outputs": [
    {
     "data": {
      "text/plain": [
       "<bound method NDFrame.head of                  Name            Event  \\\n",
       "0          JenapRowli   fest_1_event_9   \n",
       "1       Credyj Duenas   fest_1_event_4   \n",
       "2      Jequqlin Duran   fest_2_event_1   \n",
       "3      Keiyah widalgo   fest_1_event_4   \n",
       "4       Elaine John S  fest_2_event_15   \n",
       "...               ...              ...   \n",
       "4764   Candace John B   fest_2_event_7   \n",
       "4765  debra clevenger  fest_2_event_11   \n",
       "4766    Tharn Strogud   fest_1_event_6   \n",
       "4767               HS   fest_1_event_3   \n",
       "4768    jadon vandyke   fest_2_event_2   \n",
       "\n",
       "                                                  fests  \n",
       "0     [fest_1_event_9, fest_2_event_3, fest_1_event_...  \n",
       "1     [fest_1_event_4, fest_1_event_9, fest_2_event_...  \n",
       "2     [fest_2_event_1, fest_2_event_5, fest_2_event_...  \n",
       "3     [fest_1_event_4, fest_1_event_1, fest_1_event_...  \n",
       "4     [fest_2_event_15, fest_1_event_13, fest_1_even...  \n",
       "...                                                 ...  \n",
       "4764                                   [fest_2_event_7]  \n",
       "4765                                  [fest_2_event_11]  \n",
       "4766                                   [fest_1_event_6]  \n",
       "4767                                   [fest_1_event_3]  \n",
       "4768                                   [fest_2_event_2]  \n",
       "\n",
       "[4769 rows x 3 columns]>"
      ]
     },
     "execution_count": 43,
     "metadata": {},
     "output_type": "execute_result"
    }
   ],
   "source": [
    "partinfests.head"
   ]
  },
  {
   "cell_type": "code",
   "execution_count": null,
   "metadata": {},
   "outputs": [],
   "source": []
  }
 ],
 "metadata": {
  "kernelspec": {
   "display_name": "Python 3.10.8 ('.env': venv)",
   "language": "python",
   "name": "python3"
  },
  "language_info": {
   "codemirror_mode": {
    "name": "ipython",
    "version": 3
   },
   "file_extension": ".py",
   "mimetype": "text/x-python",
   "name": "python",
   "nbconvert_exporter": "python",
   "pygments_lexer": "ipython3",
   "version": "3.10.8"
  },
  "orig_nbformat": 4,
  "vscode": {
   "interpreter": {
    "hash": "d7b2c10f2b34860818bda4250b40368e8e007265c5317035e94b7cce7eb89bf6"
   }
  }
 },
 "nbformat": 4,
 "nbformat_minor": 2
}
